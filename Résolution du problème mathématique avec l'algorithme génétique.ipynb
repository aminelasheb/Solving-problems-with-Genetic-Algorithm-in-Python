{
 "cells": [
  {
   "cell_type": "markdown",
   "id": "8373f2e1",
   "metadata": {},
   "source": [
    "# Résolution du problème mathématique avec l'algorithme génétique"
   ]
  },
  {
   "cell_type": "markdown",
   "id": "8190db6f",
   "metadata": {},
   "source": [
    "implémentation en Python d'un algorithme génétique pour résoudre le problème suivant: a + 2b + 3c + 4d = 30."
   ]
  },
  {
   "cell_type": "code",
   "execution_count": 37,
   "id": "8c880e4f",
   "metadata": {},
   "outputs": [],
   "source": [
    "import random"
   ]
  },
  {
   "cell_type": "markdown",
   "id": "c0c24640",
   "metadata": {},
   "source": [
    "génère un chromosome aléatoire, qui est une liste de quatre valeurs entières comprises entre 0 et 30, est appelée pour initialiser la population de chromosomes"
   ]
  },
  {
   "cell_type": "code",
   "execution_count": 38,
   "id": "dc46956b",
   "metadata": {},
   "outputs": [],
   "source": [
    "def generate_chromosome():\n",
    "    return [random.randint(0,30) for i in range(4)]"
   ]
  },
  {
   "cell_type": "markdown",
   "id": "d36853a7",
   "metadata": {},
   "source": [
    "calcule la valeur de la fonction objective pour un chromosome donné. La fonction objective est définie comme étant la valeur absolue de ((a + 2b + 3c + 4d) - 30), où a, b, c et d sont les valeurs du chromosome."
   ]
  },
  {
   "cell_type": "code",
   "execution_count": 39,
   "id": "3a4d3c1d",
   "metadata": {},
   "outputs": [],
   "source": [
    "def objective_function(chromosome):\n",
    "    a,b,c,d = chromosome\n",
    "    return abs((a + 2*b + 3*c + 4*d) - 30)"
   ]
  },
  {
   "cell_type": "markdown",
   "id": "8f5f3ea3",
   "metadata": {},
   "source": [
    "sélectionne les parents pour la reproduction, trie la population selon la valeur de la fonction objective pour chaque chromosome, et sélectionne les num_parents meilleurs chromosomes."
   ]
  },
  {
   "cell_type": "code",
   "execution_count": 40,
   "id": "26227bbc",
   "metadata": {},
   "outputs": [],
   "source": [
    "def select_parents(population, objective_function, num_parents):\n",
    "    parents = sorted(population, key=lambda x: objective_function(x))[:num_parents]\n",
    "    return parents"
   ]
  },
  {
   "cell_type": "markdown",
   "id": "6622fa59",
   "metadata": {},
   "source": [
    "effectue le processus de croisement entre les parents pour produire des descendants. Pour chaque descendant, sélectionne deux parents au hasard, et crée un nouveau chromosome en combinant les premières et les dernières moitiés des chromosomes des parents."
   ]
  },
  {
   "cell_type": "code",
   "execution_count": 41,
   "id": "cd61bc32",
   "metadata": {},
   "outputs": [],
   "source": [
    "def crossover(parents, offspring_size):\n",
    "    offspring = []\n",
    "    for i in range(offspring_size):\n",
    "        parent1 = random.choice(parents)\n",
    "        parent2 = random.choice(parents)\n",
    "        chromosome1 = parent1[:2] + parent2[2:]\n",
    "        chromosome2 = parent2[:2] + parent1[2:]\n",
    "        offspring.append(chromosome1)\n",
    "        offspring.append(chromosome2)\n",
    "    return offspring"
   ]
  },
  {
   "cell_type": "markdown",
   "id": "7e81948e",
   "metadata": {},
   "source": [
    "effectue le processus de mutation pour les descendants, chaque descendant, vérifie si une mutation doit se produire en utilisant la probabilité de mutation. Si oui, modifie aléatoirement une des valeurs du descendant."
   ]
  },
  {
   "cell_type": "code",
   "execution_count": 42,
   "id": "96ee3507",
   "metadata": {},
   "outputs": [],
   "source": [
    "def mutate(offspring, mutation_probability):\n",
    "    for i in range(len(offspring)):\n",
    "        for j in range(len(offspring[i])):\n",
    "            if random.uniform(0,1) < mutation_probability:\n",
    "                offspring[i][j] = random.randint(0,30)\n",
    "    return offspring"
   ]
  },
  {
   "cell_type": "markdown",
   "id": "ddb8305c",
   "metadata": {},
   "source": [
    "genetic_algorithm(population_size=6, num_generations=100, num_parents=3, mutation_probability=0.1): Cette fonction est le coeur de l'algorithme génétique. Elle initialise la population en appelant la fonction generate_chromosome(), puis effectue num_generations itérations en sélectionnant les parents, effectuant le croisement, la mutation et en remplaçant la population par les descendants et les parents. Finalement, elle renvoie le meilleur chromosome trouvé selon la fonction objective."
   ]
  },
  {
   "cell_type": "code",
   "execution_count": 43,
   "id": "f657f05c",
   "metadata": {},
   "outputs": [],
   "source": [
    "def genetic_algorithm(population_size=6, num_generations=100, num_parents=3, mutation_probability=0.1):\n",
    "    population = [generate_chromosome() for i in range(population_size)]\n",
    "    for generation in range(num_generations):\n",
    "        parents = select_parents(population, objective_function, num_parents)\n",
    "        offspring = crossover(parents, population_size - num_parents)\n",
    "        offspring = mutate(offspring, mutation_probability)\n",
    "        population = parents + offspring\n",
    "    return sorted(population, key=lambda x: objective_function(x))[0]"
   ]
  },
  {
   "cell_type": "markdown",
   "id": "a98af2bd",
   "metadata": {},
   "source": [
    "Pour générer une table pour best_chromosome pour n itérations, stocker les résultats de chaque itération dans une liste, puis créer une trame de données Pandas pour afficher les résultats"
   ]
  },
  {
   "cell_type": "code",
   "execution_count": 44,
   "id": "7246bf4e",
   "metadata": {},
   "outputs": [
    {
     "name": "stdout",
     "output_type": "stream",
     "text": [
      "    a  b  c  d\n",
      "0   1  4  7  0\n",
      "1   6  0  0  6\n",
      "2   4  1  4  3\n",
      "3   1  8  3  1\n",
      "4   8  2  6  0\n",
      "5   5  3  0  5\n",
      "6  18  4  0  1\n",
      "7   0  5  0  5\n",
      "8  12  3  4  0\n",
      "9   1  3  1  5\n"
     ]
    }
   ],
   "source": [
    "import pandas as pd\n",
    "\n",
    "def run_iterations(n):\n",
    "    results = []\n",
    "    for i in range(n):\n",
    "        best_chromosome = genetic_algorithm()\n",
    "        results.append(best_chromosome)\n",
    "    return results\n",
    "\n",
    "results = run_iterations(10)\n",
    "df = pd.DataFrame(results, columns=[\"a\", \"b\", \"c\", \"d\"])\n",
    "print(df)"
   ]
  },
  {
   "cell_type": "markdown",
   "id": "bd667f7c",
   "metadata": {},
   "source": [
    "Cela exécutera la fonction genetic_algorithm n fois et stockera les résultats dans une liste de résultats. La liste est ensuite convertie en une trame de données Pandas pour un affichage et une manipulation faciles."
   ]
  },
  {
   "cell_type": "markdown",
   "id": "68a4c23f",
   "metadata": {},
   "source": [
    "# CREDIT"
   ]
  },
  {
   "cell_type": "markdown",
   "id": "7b593311",
   "metadata": {},
   "source": [
    "Lasheb mohamed Amine"
   ]
  }
 ],
 "metadata": {
  "kernelspec": {
   "display_name": "Python 3 (ipykernel)",
   "language": "python",
   "name": "python3"
  },
  "language_info": {
   "codemirror_mode": {
    "name": "ipython",
    "version": 3
   },
   "file_extension": ".py",
   "mimetype": "text/x-python",
   "name": "python",
   "nbconvert_exporter": "python",
   "pygments_lexer": "ipython3",
   "version": "3.10.8"
  }
 },
 "nbformat": 4,
 "nbformat_minor": 5
}
